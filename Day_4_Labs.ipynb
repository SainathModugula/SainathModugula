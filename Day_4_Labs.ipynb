{
  "nbformat": 4,
  "nbformat_minor": 0,
  "metadata": {
    "colab": {
      "provenance": []
    },
    "kernelspec": {
      "name": "python3",
      "display_name": "Python 3"
    },
    "language_info": {
      "name": "python"
    }
  },
  "cells": [
    {
      "cell_type": "code",
      "execution_count": 1,
      "metadata": {
        "colab": {
          "base_uri": "https://localhost:8080/"
        },
        "id": "0p7f-YrOagoo",
        "outputId": "1bff1c4d-893b-4562-c9a0-41f8a52ad027"
      },
      "outputs": [
        {
          "output_type": "stream",
          "name": "stdout",
          "text": [
            "Enter value of n: 5\n",
            "Total sum is:  15\n"
          ]
        }
      ],
      "source": [
        "n = input(\"Enter value of n: \")\n",
        "try:\n",
        "    n = int(n)\n",
        "    total_sum = 0\n",
        "    # sum of n numbers in python using for loop\n",
        "    for i in range(1, n+1):\n",
        "        total_sum = total_sum + i\n",
        "    print(\"Total sum is: \", total_sum)\n",
        "except:\n",
        "    print(\"Please enter a natural number\")"
      ]
    },
    {
      "cell_type": "code",
      "source": [
        "def changeme(mylist):\n",
        "  print(mylist)\n",
        "  mylist.append(\"data is changed\")\n",
        "  print(mylist,\"new data after append\")\n",
        "  return\n",
        "a=[1,2,3,4,5]\n",
        "changeme(a)\n",
        "changeme(mylist=[20,30,40,50])"
      ],
      "metadata": {
        "colab": {
          "base_uri": "https://localhost:8080/"
        },
        "id": "tm4PVJ0ocwsS",
        "outputId": "e8c50044-0eae-46f2-e983-f4c40b9ae9ab"
      },
      "execution_count": 2,
      "outputs": [
        {
          "output_type": "stream",
          "name": "stdout",
          "text": [
            "[1, 2, 3, 4, 5]\n",
            "[1, 2, 3, 4, 5, 'data is changed'] new data after append\n",
            "[20, 30, 40, 50]\n",
            "[20, 30, 40, 50, 'data is changed'] new data after append\n"
          ]
        }
      ]
    },
    {
      "cell_type": "code",
      "source": [
        "#Find the maximum of three numbers\n",
        "List1=[135,234,214,134,234,453]\n",
        "print(\"Maximum of list1:\",max(List1))\n",
        "print(\"minimum of list1:\",min(List1))\n",
        "\n"
      ],
      "metadata": {
        "colab": {
          "base_uri": "https://localhost:8080/"
        },
        "id": "Bw_2rtzrf0vV",
        "outputId": "8f463d9d-1712-4dd1-b0ef-79997f1b932f"
      },
      "execution_count": 6,
      "outputs": [
        {
          "output_type": "stream",
          "name": "stdout",
          "text": [
            "Maximum of list1: 453\n",
            "minimum of list1: 134\n"
          ]
        }
      ]
    },
    {
      "cell_type": "code",
      "source": [
        "#Find the sum all the numbers in a list\n",
        "List1=[134,213,142,244,432]\n",
        "print(\"sum of all te numbers:\",sum(List1))\n"
      ],
      "metadata": {
        "colab": {
          "base_uri": "https://localhost:8080/"
        },
        "id": "Lp_UHsh9qeE7",
        "outputId": "8147604e-a276-4d76-e115-de44d9aab26a"
      },
      "execution_count": 11,
      "outputs": [
        {
          "output_type": "stream",
          "name": "stdout",
          "text": [
            "sum of all te numbers: 1165\n"
          ]
        }
      ]
    },
    {
      "cell_type": "code",
      "source": [
        "#Multiply all the numbers in the list\n",
        "List1=[122,131,32,34,]\n",
        "a=122\n",
        "b=131\n",
        "c=32\n",
        "d=34\n",
        "print(\"multiplication af all the numbers:\",(a*b*c*d))"
      ],
      "metadata": {
        "colab": {
          "base_uri": "https://localhost:8080/"
        },
        "id": "4IM9unE7sX6K",
        "outputId": "6e26b078-33f5-4367-fb51-7b3892aab753"
      },
      "execution_count": 14,
      "outputs": [
        {
          "output_type": "stream",
          "name": "stdout",
          "text": [
            "multiplication af all the numbers: 17388416\n"
          ]
        }
      ]
    },
    {
      "cell_type": "code",
      "source": [
        "#Reverse a string\n",
        "string1=\"1234abcd\"\n",
        "reversed_string=string1[::-1]\n",
        "print(\"after string reverse:\",reversed_string)"
      ],
      "metadata": {
        "colab": {
          "base_uri": "https://localhost:8080/"
        },
        "id": "9MDO7fZitcN_",
        "outputId": "0c7ac613-059c-4de6-fb7a-505545a79438"
      },
      "execution_count": 17,
      "outputs": [
        {
          "output_type": "stream",
          "name": "stdout",
          "text": [
            "after string reverse: dcba4321\n"
          ]
        }
      ]
    },
    {
      "cell_type": "code",
      "source": [
        "#Calculate the factorial of a number(a non negative integer)\n",
        "def factorial(n):\n",
        "  if n < 0:\n",
        "    return\n",
        "  elif n==0 or n==1:\n",
        "    return 1\n",
        "  else:\n",
        "    fact=1\n",
        "    while(n>1):\n",
        "      fact*=n\n",
        "      n-=1\n",
        "    return fact\n",
        "num=(7)\n",
        "print(\"factorial of\",num,\"is\",factorial(num))\n",
        "\n"
      ],
      "metadata": {
        "colab": {
          "base_uri": "https://localhost:8080/"
        },
        "id": "jpKwe6l_vHgL",
        "outputId": "6219dd14-e0e6-49b9-d3c0-e4fe46db1ccf"
      },
      "execution_count": 25,
      "outputs": [
        {
          "output_type": "stream",
          "name": "stdout",
          "text": [
            "factorial of 7 is 5040\n"
          ]
        }
      ]
    },
    {
      "cell_type": "code",
      "source": [
        "#Check whether a number is in given range\n",
        "def range_of_number(n):\n",
        "  if n>=10 and n<=99:\n",
        "    print(n,\"the number is the range\")\n",
        "  else:\n",
        "    print(n,\"the number is not in range\")\n",
        "test = int(input(\"enter a number\"))\n",
        "range_of_number(test)"
      ],
      "metadata": {
        "colab": {
          "base_uri": "https://localhost:8080/"
        },
        "id": "6YeTpc1rxyx_",
        "outputId": "6cf284ca-7bd5-4910-cbbe-e41a226b2c24"
      },
      "execution_count": 28,
      "outputs": [
        {
          "output_type": "stream",
          "name": "stdout",
          "text": [
            "enter a number75\n",
            "75 the number is the range\n"
          ]
        }
      ]
    },
    {
      "cell_type": "code",
      "source": [
        "# Accept a string and calculate the number of upper case and lower case letters\n",
        "def string_var(s):\n",
        "  d={\"upper_case\":0,\"lower_case\":0}\n",
        "  for c in s:\n",
        "    if c.isupper():\n",
        "      d[\"upper_case\"]+=1\n",
        "    elif c.islower():\n",
        "        d[\"lower_case\"]+=1\n",
        "    else:\n",
        "        pass\n",
        "  print(\"original string:\",s)\n",
        "  print(\"no of upper case:\",d[\"upper_case\"])\n",
        "  print(\"no of lower case:\",d[\"lower_case\"])\n",
        "string_var(\"The Quick Brown Fox\")"
      ],
      "metadata": {
        "colab": {
          "base_uri": "https://localhost:8080/"
        },
        "id": "fIFp9PGY9COn",
        "outputId": "39ab999c-b400-458c-c86f-1742e0c1f6cc"
      },
      "execution_count": 45,
      "outputs": [
        {
          "output_type": "stream",
          "name": "stdout",
          "text": [
            "original string: The Quick Brown Fox\n",
            "no of upper case: 4\n",
            "no of lower case: 12\n"
          ]
        }
      ]
    },
    {
      "cell_type": "code",
      "source": [
        "import math\n",
        "content=dir(math)\n",
        "print(content)"
      ],
      "metadata": {
        "colab": {
          "base_uri": "https://localhost:8080/"
        },
        "id": "oQ7yVETRCXt1",
        "outputId": "70e68fb6-e1aa-42a8-ffc0-7a06064cf1bd"
      },
      "execution_count": 47,
      "outputs": [
        {
          "output_type": "stream",
          "name": "stdout",
          "text": [
            "['__doc__', '__loader__', '__name__', '__package__', '__spec__', 'acos', 'acosh', 'asin', 'asinh', 'atan', 'atan2', 'atanh', 'ceil', 'comb', 'copysign', 'cos', 'cosh', 'degrees', 'dist', 'e', 'erf', 'erfc', 'exp', 'expm1', 'fabs', 'factorial', 'floor', 'fmod', 'frexp', 'fsum', 'gamma', 'gcd', 'hypot', 'inf', 'isclose', 'isfinite', 'isinf', 'isnan', 'isqrt', 'lcm', 'ldexp', 'lgamma', 'log', 'log10', 'log1p', 'log2', 'modf', 'nan', 'nextafter', 'perm', 'pi', 'pow', 'prod', 'radians', 'remainder', 'sin', 'sinh', 'sqrt', 'tan', 'tanh', 'tau', 'trunc', 'ulp']\n"
          ]
        }
      ]
    },
    {
      "cell_type": "code",
      "source": [
        "#Take a list and return a new list with unique elements of the first list\n",
        "new_list=[14,25,87,14,25,25]\n",
        "new_val=set(new_list)\n",
        "z=list(new_val)\n",
        "print(\"Unique values:\",z)"
      ],
      "metadata": {
        "colab": {
          "base_uri": "https://localhost:8080/"
        },
        "id": "vrXBd2h5WOj-",
        "outputId": "9715a5a2-e5da-474a-c83f-39b0b2ae83c8"
      },
      "execution_count": 48,
      "outputs": [
        {
          "output_type": "stream",
          "name": "stdout",
          "text": [
            "Unique values: [25, 14, 87]\n"
          ]
        }
      ]
    },
    {
      "cell_type": "code",
      "source": [
        "#Check anumber as parameter and check whether the number is prime or not\n",
        "n=int(input(\"Enter number:\"))\n",
        "k=0\n",
        "for i in range(2,n//2+1):\n",
        "  if(n%i==0):\n",
        "    k=k+1\n",
        "if (k<=0):\n",
        "  print(\"number is prime\")\n",
        "else:\n",
        "  print(\"number is not prime\")\n",
        "\n",
        "\n"
      ],
      "metadata": {
        "colab": {
          "base_uri": "https://localhost:8080/"
        },
        "id": "NvizpHD4aEG9",
        "outputId": "f60829b5-4f3f-47da-df01-6e4b49b6976e"
      },
      "execution_count": 50,
      "outputs": [
        {
          "output_type": "stream",
          "name": "stdout",
          "text": [
            "Enter number:5\n",
            "number is prime\n"
          ]
        }
      ]
    },
    {
      "cell_type": "code",
      "source": [
        "#Print the even numbers from a given list\n",
        "def is_even_num(l):\n",
        "  enum=[]\n",
        "  for n in l:\n",
        "    if n%2==0:\n",
        "      enum.append(n)\n",
        "  return enum\n",
        "print(is_even_num([1,2,3,4,5,6,7,8,9]))\n"
      ],
      "metadata": {
        "colab": {
          "base_uri": "https://localhost:8080/"
        },
        "id": "wpsEVHlMb4fy",
        "outputId": "3cee12e6-08ed-46ed-9808-522f5e75d942"
      },
      "execution_count": 55,
      "outputs": [
        {
          "output_type": "stream",
          "name": "stdout",
          "text": [
            "[2, 4, 6, 8]\n"
          ]
        }
      ]
    }
  ]
}